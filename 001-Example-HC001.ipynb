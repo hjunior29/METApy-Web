{
 "cells": [
  {
   "cell_type": "code",
   "execution_count": 1,
   "id": "c8fb88ac",
   "metadata": {},
   "outputs": [],
   "source": [
    "# import numpy as np\n",
    "from META_TOOLBOX import HILL_CLIMBING_001 # or from META_TOOLBOX import *"
   ]
  },
  {
   "cell_type": "code",
   "execution_count": null,
   "id": "73c79354",
   "metadata": {
    "pycharm": {
     "is_executing": true
    }
   },
   "outputs": [],
   "source": [
    "# Input\n",
    "PARAMETERS = {'PERCENTAGE STD (SIGMA)': 10.0} # equal 10%\n",
    "\n",
    "SETUP = {\n",
    "        'N_REP': 10,\n",
    "        'N_POP': 1,\n",
    "        'N_ITER': 100,\n",
    "        'X_L': [-2, -2, -2],\n",
    "        'X_U': [2, 2, 2],\n",
    "        'D': 3,\n",
    "        'NULL_DIC': None,\n",
    "        'PARAMETERS': PARAMETERS\n",
    "        }\n",
    "\n",
    "# OF statement\n",
    "def OF_FUNCTION(X, NULL_DIC):\n",
    "    X_0 = X[0]\n",
    "    X_1 = X[1]\n",
    "    X_2 = X[2]\n",
    "    OF = X_0 ** 2 + X_1 ** 2 + X_2 ** 2\n",
    "    return OF\n",
    "\n",
    "# Call algorithm\n",
    "RESULTS_REP, BEST_REP, AVERAGE_REP, WORST_REP, STATUS_PROCEDURE = HILL_CLIMBING_001(OF_FUNCTION, SETUP)"
   ]
  },
  {
   "cell_type": "code",
   "execution_count": null,
   "outputs": [],
   "source": [],
   "metadata": {
    "collapsed": false
   }
  }
 ],
 "metadata": {
  "kernelspec": {
   "display_name": "base",
   "language": "python",
   "name": "python3"
  },
  "language_info": {
   "codemirror_mode": {
    "name": "ipython",
    "version": 3
   },
   "file_extension": ".py",
   "mimetype": "text/x-python",
   "name": "python",
   "nbconvert_exporter": "python",
   "pygments_lexer": "ipython3",
   "version": "3.8.8 (default, Apr 13 2021, 15:08:03) [MSC v.1916 64 bit (AMD64)]"
  },
  "vscode": {
   "interpreter": {
    "hash": "12eb6b6a99ebdaf40fea6d18052249e47d18a78868cec791600a2bb30324e5ce"
   }
  }
 },
 "nbformat": 4,
 "nbformat_minor": 5
}
